{
  "nbformat": 4,
  "nbformat_minor": 0,
  "metadata": {
    "colab": {
      "provenance": [],
      "include_colab_link": true
    },
    "kernelspec": {
      "name": "python3",
      "display_name": "Python 3"
    },
    "language_info": {
      "name": "python"
    }
  },
  "cells": [
    {
      "cell_type": "markdown",
      "metadata": {
        "id": "view-in-github",
        "colab_type": "text"
      },
      "source": [
        "<a href=\"https://colab.research.google.com/github/NguyenPhuc2205/PBL2/blob/main/toDrive.ipynb\" target=\"_parent\"><img src=\"https://colab.research.google.com/assets/colab-badge.svg\" alt=\"Open In Colab\"/></a>"
      ]
    },
    {
      "cell_type": "markdown",
      "source": [
        "#LƯU Ý\n",
        "1. Vui lòng để lại bình luận trên [lucngoc.com](https://lucngoc.com/cong-cu-tai-link-truc-tiep-dropbox-onedrive-helurl-ve-google-drive/) nếu gặp lỗi.\n",
        "2. Minh họa các loại link hỗ trợ:\n",
        "- Dropbox: https://www.dropbox.com/scl/fi/zj9z0u55ugwlkajzfmb13/Photos.zip?rlkey=mmow4id5eaq623zwrj5uqq1ba&dl=0\n",
        "- OneDrive (SharePoint only): https://33zmfk-my.sharepoint.com/:v:/g/personal/1_365_lucngoc_com/Ed5V68D1hpNKrnNEJ045bA0B9ybM3L4tVJEGmTUIGeQwXg?e=0330001\n",
        "- Link Helurl.com (copy trực tiếp từ phần get link): https://helurl.com/drive/s/cU64kflCvU2ClKva4alPgUC7U6ihR7\n",
        "- Link các file trực tiếp: https://haze.seedhost.eu/user/windows/10/en-us_windows_10_iot_enterprise_ltsc_2021_x64_dvd_257ad90f.iso"
      ],
      "metadata": {
        "id": "RpcFnP6AnVBC"
      }
    },
    {
      "cell_type": "code",
      "source": [
        "https://helurl.com/drive/s/eIYQUBgGg3XZ9nEmnPz9OqWz4rOaE7:NDU5NjYxfHBhZA"
      ],
      "metadata": {
        "id": "C48LM86W2R7w"
      },
      "execution_count": null,
      "outputs": []
    },
    {
      "cell_type": "code",
      "execution_count": null,
      "metadata": {
        "id": "2I0NlIZ4nRHI",
        "cellView": "form"
      },
      "outputs": [],
      "source": [
        "# @title TẢI LINK\n",
        "from urllib.parse import urlparse\n",
        "import requests\n",
        "import json\n",
        "from google.colab import drive\n",
        "\n",
        "drive.mount('/content/drive')\n",
        "\n",
        "link = input(\"Nhập link bạn cần tải: \\n\")\n",
        "\n",
        "try:\n",
        "  domain = urlparse(link).netloc\n",
        "  if domain == \"helurl.com\":\n",
        "    if (link.find(\"api\") < 0):\n",
        "      print(\"Bạn muốn tải helurl à, được thôi tôi làm đây:\")\n",
        "      x = link.split(\"/\")\n",
        "      h = x[len(x)-1]\n",
        "      url = 'https://helurl.com/api/v1/shareable-links/'+ h + '?withEntries=true&page=1&order=updated_at:desc'\n",
        "      x = requests.get(url)\n",
        "      data = x.json()\n",
        "      id = data['link']['id']\n",
        "      hash = data['link']['entry']['hash']\n",
        "      name = data['link']['entry']['name']\n",
        "      link = 'https://helurl.com/api/v1/file-entries/download/'+ hash +'?shareable_link=' + str(id) + '&password=null';\n",
        "      print(link);\n",
        "      !wget -O \"$name\" -P /content/drive/MyDrive $link\n",
        "\n",
        "    else:\n",
        "      name = input('Link bạn nhập là link trực tiếp từ helurl, nhập tên file bạn muốn lưu:\\n')\n",
        "      !wget -O \"$name\" -P /content/drive/MyDrive $link\n",
        "\n",
        "  elif domain == \"www.dropbox.com\":\n",
        "    print(\"Bạn muốn tải Dropbox à, tôi sẽ thử tải nó:\")\n",
        "    link = link.replace(\"dl=0\", \"dl=1\")\n",
        "    path = urlparse(link).path.split('/')\n",
        "    name = path[len(path)-1]\n",
        "    !wget -O \"$name\" -P /content/drive/MyDrive $link\n",
        "\n",
        "  elif (domain.find(\"sharepoint\") > 0):\n",
        "    print('Bạn nhập link SharePoint, tôi sẽ thử tải nó:')\n",
        "    x = link.split(\"?\")\n",
        "    link = x[0] + \"?download=1\"\n",
        "    name = input(\"Nhập tên file (kèm phần mở rộng): \\n\")\n",
        "    !wget -P /content/drive/MyDrive $link\n",
        "\n",
        "  else:\n",
        "    print(\"Có phải đang nhập một link trực tiếp, tôi sẽ thử tải nó:\")\n",
        "    !wget -P /content/drive/MyDrive --user-agent=\"Mozilla\" $link\n",
        "\n",
        "except Exception as error:\n",
        "  print(\"Bạn nhập vớ vẩn lỗi rồi này: \\n\")\n",
        "  print(error)"
      ]
    }
  ]
}